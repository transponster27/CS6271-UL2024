{
  "cells": [
    {
      "cell_type": "markdown",
      "metadata": {
        "id": "view-in-github",
        "colab_type": "text"
      },
      "source": [
        "<a href=\"https://colab.research.google.com/github/transponster27/CS6271-UL2024/blob/main/Question2.ipynb\" target=\"_parent\"><img src=\"https://colab.research.google.com/assets/colab-badge.svg\" alt=\"Open In Colab\"/></a>"
      ]
    },
    {
      "cell_type": "code",
      "execution_count": null,
      "metadata": {
        "id": "ahXBWon2K6qj"
      },
      "outputs": [],
      "source": []
    },
    {
      "cell_type": "markdown",
      "metadata": {
        "id": "T5sNDxPc-vsl"
      },
      "source": [
        "# GP Multiple runs on an arbitrary Symbolic Regression Problem."
      ]
    },
    {
      "cell_type": "markdown",
      "metadata": {
        "id": "Iwm8oAgw-vso"
      },
      "source": [
        "To make our code truly general, it is important to be able to read data in from a file and perform Symbolic Regression on it.\n",
        "\n",
        "One big step up from previous notebooks is that we need to store our data somewhere that the notebook can get at."
      ]
    },
    {
      "cell_type": "markdown",
      "metadata": {
        "id": "6p83FZCt97gy"
      },
      "source": [
        "Install DEAP."
      ]
    },
    {
      "cell_type": "code",
      "execution_count": null,
      "metadata": {
        "colab": {
          "base_uri": "https://localhost:8080/"
        },
        "id": "ptCMZ5_A97gz",
        "outputId": "7c329893-b634-4f18-ccee-2a6e33aba7ea"
      },
      "outputs": [
        {
          "output_type": "stream",
          "name": "stdout",
          "text": [
            "Requirement already satisfied: deap in /usr/local/lib/python3.10/dist-packages (1.4.1)\n",
            "Requirement already satisfied: numpy in /usr/local/lib/python3.10/dist-packages (from deap) (1.26.4)\n"
          ]
        }
      ],
      "source": [
        "!pip install deap"
      ]
    },
    {
      "cell_type": "code",
      "execution_count": null,
      "metadata": {
        "colab": {
          "base_uri": "https://localhost:8080/",
          "height": 17
        },
        "id": "6WUMoPjs-vso",
        "outputId": "bb3f1aca-259a-4588-f6f3-b8a2dc50dad4"
      },
      "outputs": [
        {
          "output_type": "display_data",
          "data": {
            "text/plain": [
              "<IPython.core.display.HTML object>"
            ],
            "text/html": [
              "<style>.container { width:100% !important; }</style>"
            ]
          },
          "metadata": {}
        }
      ],
      "source": [
        "from IPython.core.display import display, HTML\n",
        "display(HTML(\"<style>.container { width:100% !important; }</style>\"))\n"
      ]
    },
    {
      "cell_type": "markdown",
      "metadata": {
        "id": "Fbwx74bsEKjl"
      },
      "source": [
        "Clone the data folder from the class git repository and create a local copy for us to read. First, we need to create some space. You will be asked for confirmation by Google to do this."
      ]
    },
    {
      "cell_type": "code",
      "execution_count": null,
      "metadata": {
        "colab": {
          "base_uri": "https://localhost:8080/"
        },
        "id": "bj4JuDiyEXtf",
        "outputId": "8ada7a15-bf71-48b6-e1fd-451cf933b7f1"
      },
      "outputs": [
        {
          "output_type": "stream",
          "name": "stdout",
          "text": [
            "Mounted at /content/drive\n"
          ]
        }
      ],
      "source": [
        "from google.colab import drive\n",
        "drive.mount('/content/drive', force_remount=True)"
      ]
    },
    {
      "cell_type": "markdown",
      "metadata": {
        "id": "WSS-hNz7Er4o"
      },
      "source": [
        "Clone the data from the repository. Note that we can't clone **just** a folder, so we're actually bringing everything down."
      ]
    },
    {
      "cell_type": "code",
      "execution_count": null,
      "metadata": {
        "colab": {
          "base_uri": "https://localhost:8080/"
        },
        "id": "JbZZ7keoE1og",
        "outputId": "ec6c1381-44ea-45d5-a5f9-120896e3d157"
      },
      "outputs": [
        {
          "output_type": "stream",
          "name": "stdout",
          "text": [
            "Cloning into 'CS6271'...\n",
            "remote: Enumerating objects: 227, done.\u001b[K\n",
            "remote: Counting objects: 100% (206/206), done.\u001b[K\n",
            "remote: Compressing objects: 100% (132/132), done.\u001b[K\n",
            "remote: Total 227 (delta 83), reused 183 (delta 70), pack-reused 21 (from 1)\u001b[K\n",
            "Receiving objects: 100% (227/227), 3.90 MiB | 11.90 MiB/s, done.\n",
            "Resolving deltas: 100% (84/84), done.\n"
          ]
        }
      ],
      "source": [
        "!git clone https://github.com/conorlime/CS6271"
      ]
    },
    {
      "cell_type": "markdown",
      "metadata": {
        "id": "2Gw5SWrXFmBD"
      },
      "source": [
        "We can navigate through our drive here using standard Unix commands."
      ]
    },
    {
      "cell_type": "code",
      "execution_count": null,
      "metadata": {
        "colab": {
          "base_uri": "https://localhost:8080/",
          "height": 36
        },
        "id": "M5gnBtZmFReF",
        "outputId": "1e3d279e-e8e9-4ada-a2f2-6cf9eec3adcb"
      },
      "outputs": [
        {
          "output_type": "execute_result",
          "data": {
            "text/plain": [
              "'/content/CS6271/data/CS6271/data/CS6271/data'"
            ],
            "application/vnd.google.colaboratory.intrinsic+json": {
              "type": "string"
            }
          },
          "metadata": {},
          "execution_count": 86
        }
      ],
      "source": [
        "pwd"
      ]
    },
    {
      "cell_type": "code",
      "execution_count": null,
      "metadata": {
        "colab": {
          "base_uri": "https://localhost:8080/"
        },
        "id": "nSQiJMe2Fvcf",
        "outputId": "f21f9724-07ad-47a6-9f4d-f9b15a623055"
      },
      "outputs": [
        {
          "output_type": "stream",
          "name": "stdout",
          "text": [
            "conor01.csv  \u001b[0m\u001b[01;34mCS6271\u001b[0m/  kotanchek_2d.csv  randomData.csv  sample.csv  spambase.csv\n"
          ]
        }
      ],
      "source": [
        "ls"
      ]
    },
    {
      "cell_type": "code",
      "execution_count": null,
      "metadata": {
        "colab": {
          "base_uri": "https://localhost:8080/"
        },
        "id": "Bz85I_NBFxZD",
        "outputId": "00077a15-1f93-4c30-f4a8-0b842eb28458"
      },
      "outputs": [
        {
          "output_type": "stream",
          "name": "stdout",
          "text": [
            "/content/CS6271/data/CS6271/data/CS6271/data/CS6271\n"
          ]
        }
      ],
      "source": [
        "cd CS6271/"
      ]
    },
    {
      "cell_type": "code",
      "execution_count": null,
      "metadata": {
        "colab": {
          "base_uri": "https://localhost:8080/"
        },
        "id": "bQpPdNaYF59x",
        "outputId": "96b979df-716e-4b28-995d-2b6dc07474f8"
      },
      "outputs": [
        {
          "output_type": "stream",
          "name": "stdout",
          "text": [
            " CS6271_EvolutionaryAlgorithmsProject_2022.ipynb\n",
            " \u001b[0m\u001b[01;34mdata\u001b[0m/\n",
            "'DEAP Algorithms (GA).ipynb'\n",
            "'DEAP Algorithms (GA with multiple runs).ipynb'\n",
            "'DEAP Algorithms (GP Parity).ipynb'\n",
            "'DEAP Algorithms (GP Parity)- Reduced Function Set.ipynb'\n",
            "'DEAP Algorithms (GP Symbolic Regression).ipynb'\n",
            "'GA OneMax.ipynb'\n",
            "'GA With Real Values.ipynb'\n",
            "'GE_Applied_to_Classification_(Single_Type).ipynb'\n",
            " GE_Applied_to_Parity_Problems.ipynb\n",
            " GE_Classification_Problems_Multitype.ipynb\n",
            "'GP Applied to classification (multiple runs + elitism).ipynb'\n",
            "'GP Multiple runs on an arbitrary Symbolic Regression Problem.ipynb'\n",
            "'GP Multiple runs on an arbitrary Symbolic Regression Problem With Elitism.ipynb'\n",
            "'GP with multiple runs (even-parity problem).ipynb'\n",
            "'GP With NSGA II.ipynb'\n",
            " README.md\n",
            " \u001b[01;34mUtilities\u001b[0m/\n"
          ]
        }
      ],
      "source": [
        "ls"
      ]
    },
    {
      "cell_type": "code",
      "execution_count": null,
      "metadata": {
        "colab": {
          "base_uri": "https://localhost:8080/"
        },
        "id": "COROekUOOZIq",
        "outputId": "d54fed26-5b7c-4bca-9ebf-1ab0511bb8a9"
      },
      "outputs": [
        {
          "output_type": "stream",
          "name": "stdout",
          "text": [
            "/content/CS6271/data/CS6271/data/CS6271/data/CS6271/data\n"
          ]
        }
      ],
      "source": [
        "cd data"
      ]
    },
    {
      "cell_type": "code",
      "execution_count": null,
      "metadata": {
        "colab": {
          "base_uri": "https://localhost:8080/"
        },
        "id": "nZdM6srsOeEO",
        "outputId": "b8d20b51-c4bd-427b-d21d-b0fb7298cefe"
      },
      "outputs": [
        {
          "output_type": "stream",
          "name": "stdout",
          "text": [
            "conor01.csv  kotanchek_2d.csv  randomData.csv  sample.csv  spambase.csv\n"
          ]
        }
      ],
      "source": [
        "ls"
      ]
    },
    {
      "cell_type": "markdown",
      "metadata": {
        "id": "WpfLQTfQ-vsp"
      },
      "source": [
        "Import our tools."
      ]
    },
    {
      "cell_type": "code",
      "execution_count": null,
      "metadata": {
        "id": "n3N--WdM-vsq"
      },
      "outputs": [],
      "source": [
        "import operator\n",
        "import math\n",
        "import random\n",
        "\n",
        "import numpy\n",
        "import pandas as pd\n",
        "\n",
        "from deap import algorithms\n",
        "from deap import base\n",
        "from deap import creator\n",
        "from deap import tools\n",
        "from deap import gp\n",
        "\n",
        "import csv\n",
        "\n",
        "\n",
        "\n",
        "import matplotlib.pyplot as plt\n",
        "\n",
        "import itertools\n",
        "import networkx as nx\n",
        "\n"
      ]
    },
    {
      "cell_type": "markdown",
      "metadata": {
        "id": "XzITfdC0-vsq"
      },
      "source": [
        "Set our Genetic Programming parameters, one of which is now the number of runs."
      ]
    },
    {
      "cell_type": "code",
      "execution_count": null,
      "metadata": {
        "id": "Uxoyd3a8-vsr"
      },
      "outputs": [],
      "source": [
        "# Genetic Programming constants:\n",
        "POPULATION_SIZE = 200\n",
        "P_CROSSOVER = 0.9\n",
        "P_MUTATION = 0.01\n",
        "MAX_GENERATIONS = 50\n",
        "HALL_OF_FAME_SIZE = 10\n",
        "\n",
        "N_RUNS = 30"
      ]
    },
    {
      "cell_type": "markdown",
      "metadata": {
        "id": "lWuiXovN-vsr"
      },
      "source": [
        "Set the random seed."
      ]
    },
    {
      "cell_type": "code",
      "execution_count": null,
      "metadata": {
        "id": "bEDDa8NR-vss"
      },
      "outputs": [],
      "source": [
        "RANDOM_SEED = 412\n",
        "random.seed(RANDOM_SEED)"
      ]
    },
    {
      "cell_type": "markdown",
      "metadata": {
        "id": "jpoMMpV8-vss"
      },
      "source": [
        "GP-Specific constants."
      ]
    },
    {
      "cell_type": "code",
      "execution_count": null,
      "metadata": {
        "id": "Qobbjp8e-vss"
      },
      "outputs": [],
      "source": [
        "MIN_TREE_HEIGHT = 3\n",
        "MAX_TREE_HEIGHT = 5\n",
        "LIMIT_TREE_HEIGHT = 17\n",
        "MUT_MIN_TREE_HEIGHT = 0\n",
        "MUT_MAX_TREE_HEIGHT = 2"
      ]
    },
    {
      "cell_type": "markdown",
      "metadata": {
        "id": "4IIrISgN-vst"
      },
      "source": [
        "Read in the data."
      ]
    },
    {
      "cell_type": "code",
      "execution_count": null,
      "metadata": {
        "colab": {
          "base_uri": "https://localhost:8080/"
        },
        "id": "ycokO0XFC1oR",
        "outputId": "641cb2fc-0226-4769-8490-0831e9356b94"
      },
      "outputs": [
        {
          "output_type": "stream",
          "name": "stdout",
          "text": [
            "Requirement already satisfied: python-docx in /usr/local/lib/python3.10/dist-packages (1.1.2)\n",
            "Requirement already satisfied: lxml>=3.1.0 in /usr/local/lib/python3.10/dist-packages (from python-docx) (4.9.4)\n",
            "Requirement already satisfied: typing-extensions>=4.9.0 in /usr/local/lib/python3.10/dist-packages (from python-docx) (4.12.2)\n"
          ]
        }
      ],
      "source": [
        "!pip install python-docx"
      ]
    },
    {
      "cell_type": "code",
      "execution_count": null,
      "metadata": {
        "id": "cHjEIFel-vst",
        "colab": {
          "base_uri": "https://localhost:8080/",
          "height": 206
        },
        "outputId": "de1400e5-5742-47c8-e07f-25559c42ea40"
      },
      "outputs": [
        {
          "output_type": "execute_result",
          "data": {
            "text/plain": [
              "     Z1    TARGET\n",
              "0  0.05 -0.000006\n",
              "1  0.35 -0.008657\n",
              "2  0.65 -0.048932\n",
              "3  0.95 -0.096507\n",
              "4  1.25 -0.119897"
            ],
            "text/html": [
              "\n",
              "  <div id=\"df-9af641dd-785a-4595-bca9-a06621b8b36b\" class=\"colab-df-container\">\n",
              "    <div>\n",
              "<style scoped>\n",
              "    .dataframe tbody tr th:only-of-type {\n",
              "        vertical-align: middle;\n",
              "    }\n",
              "\n",
              "    .dataframe tbody tr th {\n",
              "        vertical-align: top;\n",
              "    }\n",
              "\n",
              "    .dataframe thead th {\n",
              "        text-align: right;\n",
              "    }\n",
              "</style>\n",
              "<table border=\"1\" class=\"dataframe\">\n",
              "  <thead>\n",
              "    <tr style=\"text-align: right;\">\n",
              "      <th></th>\n",
              "      <th>Z1</th>\n",
              "      <th>TARGET</th>\n",
              "    </tr>\n",
              "  </thead>\n",
              "  <tbody>\n",
              "    <tr>\n",
              "      <th>0</th>\n",
              "      <td>0.05</td>\n",
              "      <td>-0.000006</td>\n",
              "    </tr>\n",
              "    <tr>\n",
              "      <th>1</th>\n",
              "      <td>0.35</td>\n",
              "      <td>-0.008657</td>\n",
              "    </tr>\n",
              "    <tr>\n",
              "      <th>2</th>\n",
              "      <td>0.65</td>\n",
              "      <td>-0.048932</td>\n",
              "    </tr>\n",
              "    <tr>\n",
              "      <th>3</th>\n",
              "      <td>0.95</td>\n",
              "      <td>-0.096507</td>\n",
              "    </tr>\n",
              "    <tr>\n",
              "      <th>4</th>\n",
              "      <td>1.25</td>\n",
              "      <td>-0.119897</td>\n",
              "    </tr>\n",
              "  </tbody>\n",
              "</table>\n",
              "</div>\n",
              "    <div class=\"colab-df-buttons\">\n",
              "\n",
              "  <div class=\"colab-df-container\">\n",
              "    <button class=\"colab-df-convert\" onclick=\"convertToInteractive('df-9af641dd-785a-4595-bca9-a06621b8b36b')\"\n",
              "            title=\"Convert this dataframe to an interactive table.\"\n",
              "            style=\"display:none;\">\n",
              "\n",
              "  <svg xmlns=\"http://www.w3.org/2000/svg\" height=\"24px\" viewBox=\"0 -960 960 960\">\n",
              "    <path d=\"M120-120v-720h720v720H120Zm60-500h600v-160H180v160Zm220 220h160v-160H400v160Zm0 220h160v-160H400v160ZM180-400h160v-160H180v160Zm440 0h160v-160H620v160ZM180-180h160v-160H180v160Zm440 0h160v-160H620v160Z\"/>\n",
              "  </svg>\n",
              "    </button>\n",
              "\n",
              "  <style>\n",
              "    .colab-df-container {\n",
              "      display:flex;\n",
              "      gap: 12px;\n",
              "    }\n",
              "\n",
              "    .colab-df-convert {\n",
              "      background-color: #E8F0FE;\n",
              "      border: none;\n",
              "      border-radius: 50%;\n",
              "      cursor: pointer;\n",
              "      display: none;\n",
              "      fill: #1967D2;\n",
              "      height: 32px;\n",
              "      padding: 0 0 0 0;\n",
              "      width: 32px;\n",
              "    }\n",
              "\n",
              "    .colab-df-convert:hover {\n",
              "      background-color: #E2EBFA;\n",
              "      box-shadow: 0px 1px 2px rgba(60, 64, 67, 0.3), 0px 1px 3px 1px rgba(60, 64, 67, 0.15);\n",
              "      fill: #174EA6;\n",
              "    }\n",
              "\n",
              "    .colab-df-buttons div {\n",
              "      margin-bottom: 4px;\n",
              "    }\n",
              "\n",
              "    [theme=dark] .colab-df-convert {\n",
              "      background-color: #3B4455;\n",
              "      fill: #D2E3FC;\n",
              "    }\n",
              "\n",
              "    [theme=dark] .colab-df-convert:hover {\n",
              "      background-color: #434B5C;\n",
              "      box-shadow: 0px 1px 3px 1px rgba(0, 0, 0, 0.15);\n",
              "      filter: drop-shadow(0px 1px 2px rgba(0, 0, 0, 0.3));\n",
              "      fill: #FFFFFF;\n",
              "    }\n",
              "  </style>\n",
              "\n",
              "    <script>\n",
              "      const buttonEl =\n",
              "        document.querySelector('#df-9af641dd-785a-4595-bca9-a06621b8b36b button.colab-df-convert');\n",
              "      buttonEl.style.display =\n",
              "        google.colab.kernel.accessAllowed ? 'block' : 'none';\n",
              "\n",
              "      async function convertToInteractive(key) {\n",
              "        const element = document.querySelector('#df-9af641dd-785a-4595-bca9-a06621b8b36b');\n",
              "        const dataTable =\n",
              "          await google.colab.kernel.invokeFunction('convertToInteractive',\n",
              "                                                    [key], {});\n",
              "        if (!dataTable) return;\n",
              "\n",
              "        const docLinkHtml = 'Like what you see? Visit the ' +\n",
              "          '<a target=\"_blank\" href=https://colab.research.google.com/notebooks/data_table.ipynb>data table notebook</a>'\n",
              "          + ' to learn more about interactive tables.';\n",
              "        element.innerHTML = '';\n",
              "        dataTable['output_type'] = 'display_data';\n",
              "        await google.colab.output.renderOutput(dataTable, element);\n",
              "        const docLink = document.createElement('div');\n",
              "        docLink.innerHTML = docLinkHtml;\n",
              "        element.appendChild(docLink);\n",
              "      }\n",
              "    </script>\n",
              "  </div>\n",
              "\n",
              "\n",
              "<div id=\"df-1923ce46-00b6-4f79-87f3-569984cefc11\">\n",
              "  <button class=\"colab-df-quickchart\" onclick=\"quickchart('df-1923ce46-00b6-4f79-87f3-569984cefc11')\"\n",
              "            title=\"Suggest charts\"\n",
              "            style=\"display:none;\">\n",
              "\n",
              "<svg xmlns=\"http://www.w3.org/2000/svg\" height=\"24px\"viewBox=\"0 0 24 24\"\n",
              "     width=\"24px\">\n",
              "    <g>\n",
              "        <path d=\"M19 3H5c-1.1 0-2 .9-2 2v14c0 1.1.9 2 2 2h14c1.1 0 2-.9 2-2V5c0-1.1-.9-2-2-2zM9 17H7v-7h2v7zm4 0h-2V7h2v10zm4 0h-2v-4h2v4z\"/>\n",
              "    </g>\n",
              "</svg>\n",
              "  </button>\n",
              "\n",
              "<style>\n",
              "  .colab-df-quickchart {\n",
              "      --bg-color: #E8F0FE;\n",
              "      --fill-color: #1967D2;\n",
              "      --hover-bg-color: #E2EBFA;\n",
              "      --hover-fill-color: #174EA6;\n",
              "      --disabled-fill-color: #AAA;\n",
              "      --disabled-bg-color: #DDD;\n",
              "  }\n",
              "\n",
              "  [theme=dark] .colab-df-quickchart {\n",
              "      --bg-color: #3B4455;\n",
              "      --fill-color: #D2E3FC;\n",
              "      --hover-bg-color: #434B5C;\n",
              "      --hover-fill-color: #FFFFFF;\n",
              "      --disabled-bg-color: #3B4455;\n",
              "      --disabled-fill-color: #666;\n",
              "  }\n",
              "\n",
              "  .colab-df-quickchart {\n",
              "    background-color: var(--bg-color);\n",
              "    border: none;\n",
              "    border-radius: 50%;\n",
              "    cursor: pointer;\n",
              "    display: none;\n",
              "    fill: var(--fill-color);\n",
              "    height: 32px;\n",
              "    padding: 0;\n",
              "    width: 32px;\n",
              "  }\n",
              "\n",
              "  .colab-df-quickchart:hover {\n",
              "    background-color: var(--hover-bg-color);\n",
              "    box-shadow: 0 1px 2px rgba(60, 64, 67, 0.3), 0 1px 3px 1px rgba(60, 64, 67, 0.15);\n",
              "    fill: var(--button-hover-fill-color);\n",
              "  }\n",
              "\n",
              "  .colab-df-quickchart-complete:disabled,\n",
              "  .colab-df-quickchart-complete:disabled:hover {\n",
              "    background-color: var(--disabled-bg-color);\n",
              "    fill: var(--disabled-fill-color);\n",
              "    box-shadow: none;\n",
              "  }\n",
              "\n",
              "  .colab-df-spinner {\n",
              "    border: 2px solid var(--fill-color);\n",
              "    border-color: transparent;\n",
              "    border-bottom-color: var(--fill-color);\n",
              "    animation:\n",
              "      spin 1s steps(1) infinite;\n",
              "  }\n",
              "\n",
              "  @keyframes spin {\n",
              "    0% {\n",
              "      border-color: transparent;\n",
              "      border-bottom-color: var(--fill-color);\n",
              "      border-left-color: var(--fill-color);\n",
              "    }\n",
              "    20% {\n",
              "      border-color: transparent;\n",
              "      border-left-color: var(--fill-color);\n",
              "      border-top-color: var(--fill-color);\n",
              "    }\n",
              "    30% {\n",
              "      border-color: transparent;\n",
              "      border-left-color: var(--fill-color);\n",
              "      border-top-color: var(--fill-color);\n",
              "      border-right-color: var(--fill-color);\n",
              "    }\n",
              "    40% {\n",
              "      border-color: transparent;\n",
              "      border-right-color: var(--fill-color);\n",
              "      border-top-color: var(--fill-color);\n",
              "    }\n",
              "    60% {\n",
              "      border-color: transparent;\n",
              "      border-right-color: var(--fill-color);\n",
              "    }\n",
              "    80% {\n",
              "      border-color: transparent;\n",
              "      border-right-color: var(--fill-color);\n",
              "      border-bottom-color: var(--fill-color);\n",
              "    }\n",
              "    90% {\n",
              "      border-color: transparent;\n",
              "      border-bottom-color: var(--fill-color);\n",
              "    }\n",
              "  }\n",
              "</style>\n",
              "\n",
              "  <script>\n",
              "    async function quickchart(key) {\n",
              "      const quickchartButtonEl =\n",
              "        document.querySelector('#' + key + ' button');\n",
              "      quickchartButtonEl.disabled = true;  // To prevent multiple clicks.\n",
              "      quickchartButtonEl.classList.add('colab-df-spinner');\n",
              "      try {\n",
              "        const charts = await google.colab.kernel.invokeFunction(\n",
              "            'suggestCharts', [key], {});\n",
              "      } catch (error) {\n",
              "        console.error('Error during call to suggestCharts:', error);\n",
              "      }\n",
              "      quickchartButtonEl.classList.remove('colab-df-spinner');\n",
              "      quickchartButtonEl.classList.add('colab-df-quickchart-complete');\n",
              "    }\n",
              "    (() => {\n",
              "      let quickchartButtonEl =\n",
              "        document.querySelector('#df-1923ce46-00b6-4f79-87f3-569984cefc11 button');\n",
              "      quickchartButtonEl.style.display =\n",
              "        google.colab.kernel.accessAllowed ? 'block' : 'none';\n",
              "    })();\n",
              "  </script>\n",
              "</div>\n",
              "\n",
              "    </div>\n",
              "  </div>\n"
            ],
            "application/vnd.google.colaboratory.intrinsic+json": {
              "type": "dataframe",
              "variable_name": "z_train",
              "summary": "{\n  \"name\": \"z_train\",\n  \"rows\": 100,\n  \"fields\": [\n    {\n      \"column\": \"Z1\",\n      \"properties\": {\n        \"dtype\": \"number\",\n        \"std\": 2.901149197588202,\n        \"min\": 0.05,\n        \"max\": 9.95,\n        \"num_unique_values\": 100,\n        \"samples\": [\n          7.45,\n          2.95,\n          5.55\n        ],\n        \"semantic_type\": \"\",\n        \"description\": \"\"\n      }\n    },\n    {\n      \"column\": \"TARGET\",\n      \"properties\": {\n        \"dtype\": \"number\",\n        \"std\": 0.3198203463474411,\n        \"min\": -0.8067957595201792,\n        \"max\": 0.8389089510601118,\n        \"num_unique_values\": 100,\n        \"samples\": [\n          -0.05801810054578526,\n          0.2601276974469659,\n          0.220495761638348\n        ],\n        \"semantic_type\": \"\",\n        \"description\": \"\"\n      }\n    }\n  ]\n}"
            }
          },
          "metadata": {},
          "execution_count": 97
        }
      ],
      "source": [
        "import pandas as pd\n",
        "\n",
        "z_train = pd.read_csv(\"/content/salustowicz_input_file.csv\")\n",
        "z_train.head()"
      ]
    },
    {
      "cell_type": "markdown",
      "metadata": {
        "id": "aJfurX7u-vst"
      },
      "source": [
        "Define our fitness function."
      ]
    },
    {
      "cell_type": "code",
      "execution_count": null,
      "metadata": {
        "id": "B1nTzpHr-vsu"
      },
      "outputs": [],
      "source": [
        "def evalSymbReg(individual):\n",
        "    ERROR_CEIL = 1000        #max error\n",
        "\n",
        "    # Transform the tree expression in a callable function\n",
        "    func = toolbox.compile(expr=individual) # type: ignore\n",
        "    # Evaluate the mean squared error between the expression\n",
        "    # and the real function : f(z) = e^{-z}z^{3}cos(z)sin(z)\\left[cos(z)sin^{2}(z)-1\\right]\n",
        "    try:\n",
        "        mse = 0.0\n",
        "        for i in range(len(z_train)):\n",
        "            z = z_train[\"Z1\"][i]\n",
        "            y = z_train[\"TARGET\"][i]\n",
        "            mse += ((func(z) - y) ** 2) / len(z_train)\n",
        "            # if error exceeds ciel, cap at 1000\n",
        "            if mse > ERROR_CEIL:\n",
        "                mse = ERROR_CEIL\n",
        "    except OverflowError:\n",
        "        mse = ERROR_CEIL\n",
        "\n",
        "    if math.isnan(mse):    # handle NaN's\n",
        "        mse = ERROR_CEIL\n",
        "\n",
        "    nodes, _, _ = gp.graph(individual)\n",
        "    return mse, len(nodes)"
      ]
    },
    {
      "cell_type": "markdown",
      "metadata": {
        "id": "sMWEFcTw-vsu"
      },
      "source": [
        "Define a protected division function."
      ]
    },
    {
      "cell_type": "code",
      "execution_count": null,
      "metadata": {
        "id": "-wbqeCpr-vsu"
      },
      "outputs": [],
      "source": [
        "# Protected functions\n",
        "def protectedDiv(left, right):\n",
        "    try:\n",
        "        return left / right\n",
        "    except ZeroDivisionError:\n",
        "        return 1\n",
        "\n",
        "\n",
        "def psin(n):\n",
        "    try:\n",
        "        return numpy.sin(n)\n",
        "    except Exception:\n",
        "        return numpy.nan\n",
        "\n",
        "def pcos(n):\n",
        "    try:\n",
        "        return numpy.cos(n)\n",
        "    except Exception:\n",
        "        return numpy.nan\n",
        "\n",
        "def pow2(n):\n",
        "    return operator.pow(n, 2)"
      ]
    },
    {
      "cell_type": "markdown",
      "metadata": {
        "id": "lfHo4vyS-vsv"
      },
      "source": [
        "Add our functions and terminals."
      ]
    },
    {
      "cell_type": "code",
      "execution_count": null,
      "metadata": {
        "colab": {
          "base_uri": "https://localhost:8080/"
        },
        "id": "U5zwpnm2-vsv",
        "outputId": "ac85dc80-250f-4a62-8366-65f15b5d2f99"
      },
      "outputs": [
        {
          "output_type": "stream",
          "name": "stderr",
          "text": [
            "/usr/local/lib/python3.10/dist-packages/deap/gp.py:254: RuntimeWarning: Ephemeral rand101 function cannot be pickled because its generating function is a lambda function. Use functools.partial instead.\n",
            "  warnings.warn(\"Ephemeral {name} function cannot be \"\n"
          ]
        }
      ],
      "source": [
        "pset = gp.PrimitiveSet(\"MAIN\", 1) # input = Z1\n",
        "\n",
        "pset.addPrimitive(operator.add, 2)\n",
        "pset.addPrimitive(operator.sub, 2)\n",
        "pset.addPrimitive(operator.mul, 2)\n",
        "pset.addPrimitive(protectedDiv, 2)\n",
        "\n",
        "pset.addPrimitive(pow2, 1)\n",
        "pset.addPrimitive(psin, 1)\n",
        "pset.addPrimitive(pcos, 1)\n",
        "\n",
        "pset.addPrimitive(operator.neg, 1)\n",
        "#pset.addPrimitive(math.cos, 1)\n",
        "#pset.addPrimitive(math.sin, 1)\n",
        "pset.addEphemeralConstant(\"rand101\", lambda: random.random())\n"
      ]
    },
    {
      "cell_type": "markdown",
      "metadata": {
        "id": "R92Wz4PX-vsv"
      },
      "source": [
        "Create our toolbox."
      ]
    },
    {
      "cell_type": "code",
      "execution_count": null,
      "metadata": {
        "colab": {
          "base_uri": "https://localhost:8080/"
        },
        "id": "XiPJGFzt-vsw",
        "outputId": "7e24b1cf-2694-4f62-ef92-28d433de7e8a"
      },
      "outputs": [
        {
          "output_type": "stream",
          "name": "stderr",
          "text": [
            "/usr/local/lib/python3.10/dist-packages/deap/creator.py:185: RuntimeWarning: A class named 'FitnessMin' has already been created and it will be overwritten. Consider deleting previous creation of that class or rename it.\n",
            "  warnings.warn(\"A class named '{0}' has already been created and it \"\n",
            "/usr/local/lib/python3.10/dist-packages/deap/creator.py:185: RuntimeWarning: A class named 'Individual' has already been created and it will be overwritten. Consider deleting previous creation of that class or rename it.\n",
            "  warnings.warn(\"A class named '{0}' has already been created and it \"\n"
          ]
        }
      ],
      "source": [
        "toolbox = base.Toolbox()\n",
        "\n",
        "creator.create(\"FitnessMin\", base.Fitness, weights=(-1.0,-1.0))\n",
        "creator.create(\"Individual\", gp.PrimitiveTree, fitness=creator.FitnessMin)\n",
        "\n",
        "toolbox.register(\"expr\", gp.genHalfAndHalf, pset=pset, min_=1, max_=2)\n",
        "toolbox.register(\"individual\", tools.initIterate, creator.Individual, toolbox.expr)\n",
        "toolbox.register(\"population\", tools.initRepeat, list, toolbox.individual)\n",
        "toolbox.register(\"compile\", gp.compile, pset=pset)\n",
        "\n",
        "toolbox.register(\"evaluate\", evalSymbReg)\n",
        "#toolbox.register(\"select\", tools.selNSGA2)\n",
        "toolbox.register(\"select\", tools.selTournament, tournsize=3)\n",
        "\n",
        "toolbox.register(\"mate\", gp.cxOnePoint)\n",
        "toolbox.register(\"expr_mut\", gp.genFull, min_=0, max_=5)\n",
        "toolbox.register(\"mutate\", gp.mutUniform, expr=toolbox.expr_mut, pset=pset)\n",
        "\n",
        "toolbox.decorate(\"mate\", gp.staticLimit(key=operator.attrgetter(\"height\"), max_value=17))\n",
        "toolbox.decorate(\"mutate\", gp.staticLimit(key=operator.attrgetter(\"height\"), max_value=17))"
      ]
    },
    {
      "cell_type": "markdown",
      "metadata": {
        "id": "cvYxj8vh-vsw"
      },
      "source": [
        "Create our statistics. These are a bit more complex than the GA ones because we want to keep track of fitness and size for all runs."
      ]
    },
    {
      "cell_type": "code",
      "execution_count": null,
      "metadata": {
        "id": "8YoiFtZ2-vsw"
      },
      "outputs": [],
      "source": [
        "maxListFitness = []\n",
        "avgListFitness = []\n",
        "minListFitness = []\n",
        "stdListFitness = []\n",
        "\n",
        "maxListSize = []\n",
        "avgListSize = []\n",
        "minListSize = []\n",
        "stdListSize = []"
      ]
    },
    {
      "cell_type": "markdown",
      "metadata": {
        "id": "YAtDweow-vsx"
      },
      "source": [
        "Now the magic happens and we run **N_RUNS** times. Always start with a small number of runs and generations to make sure that everything is working properly before you commit to a larger number. That way, if something goes horribly wrong, Python won't replicate it 30 times before giving you back control!"
      ]
    },
    {
      "cell_type": "code",
      "execution_count": null,
      "metadata": {
        "colab": {
          "base_uri": "https://localhost:8080/"
        },
        "id": "cQGQC-XJ-vsx",
        "outputId": "44e773c5-88d1-4e09-acbd-8eb486898beb"
      },
      "outputs": [
        {
          "output_type": "stream",
          "name": "stdout",
          "text": [
            "\n",
            "\n",
            "Currently on run 0 of 30\n"
          ]
        },
        {
          "output_type": "stream",
          "name": "stderr",
          "text": [
            "<ipython-input-99-a1ac6c54e9bb>:4: RuntimeWarning: divide by zero encountered in scalar divide\n",
            "  return left / right\n",
            "<ipython-input-99-a1ac6c54e9bb>:11: RuntimeWarning: invalid value encountered in sin\n",
            "  return numpy.sin(n)\n"
          ]
        },
        {
          "output_type": "stream",
          "name": "stdout",
          "text": [
            "-- Best Individual =  mul(psin(pcos(protectedDiv(ARG0, 0.41058210807438045))), 0.11725223921802852)\n",
            "-- length=7, height=4\n",
            "-- Best Fitness =  0.0818848585015437\n",
            "\n",
            "\n",
            "Currently on run 1 of 30\n",
            "-- Best Individual =  mul(0.19661418898326988, psin(sub(add(pcos(neg(add(0.894865336964506, ARG0))), psin(add(neg(ARG0), psin(ARG0)))), sub(sub(mul(add(0.6212992659660864, ARG0), pcos(0.2660496319088371)), pcos(psin(psin(psin(psin(ARG0)))))), mul(protectedDiv(mul(ARG0, 0.4598000860909818), ARG0), neg(psin(ARG0)))))))\n",
            "-- length=39, height=10\n",
            "-- Best Fitness =  0.06251167187073076\n",
            "\n",
            "\n",
            "Currently on run 2 of 30\n",
            "-- Best Individual =  mul(psin(add(add(add(add(psin(psin(add(psin(psin(psin(ARG0))), psin(add(psin(psin(ARG0)), add(psin(ARG0), psin(ARG0))))))), psin(add(ARG0, ARG0))), psin(psin(psin(add(psin(add(psin(psin(add(ARG0, psin(psin(ARG0))))), ARG0)), psin(ARG0)))))), psin(add(psin(ARG0), ARG0))), psin(add(add(psin(psin(ARG0)), psin(psin(psin(ARG0)))), psin(psin(psin(psin(ARG0)))))))), 0.14597013816602855)\n",
            "-- length=64, height=16\n",
            "-- Best Fitness =  0.06257151078355488\n",
            "\n",
            "\n",
            "Currently on run 3 of 30\n"
          ]
        },
        {
          "output_type": "stream",
          "name": "stderr",
          "text": [
            "<ipython-input-99-a1ac6c54e9bb>:17: RuntimeWarning: invalid value encountered in cos\n",
            "  return numpy.cos(n)\n"
          ]
        },
        {
          "output_type": "stream",
          "name": "stdout",
          "text": [
            "-- Best Individual =  mul(psin(ARG0), psin(neg(sub(pcos(ARG0), sub(ARG0, ARG0)))))\n",
            "-- length=11, height=5\n",
            "-- Best Fitness =  0.05585825876774062\n",
            "\n",
            "\n",
            "Currently on run 4 of 30\n",
            "-- Best Individual =  mul(sub(psin(sub(pow2(pcos(neg(0.33323737695234246))), protectedDiv(psin(ARG0), pcos(ARG0)))), psin(sub(psin(ARG0), ARG0))), 0.1337845392508904)\n",
            "-- length=19, height=7\n",
            "-- Best Fitness =  0.06370353200170277\n",
            "\n",
            "\n",
            "Currently on run 5 of 30\n",
            "-- Best Individual =  psin(mul(pow2(0.20928876971386745), 0.2717515614529996))\n",
            "-- length=5, height=3\n",
            "-- Best Fitness =  0.10126252209795583\n",
            "\n",
            "\n",
            "Currently on run 6 of 30\n",
            "-- Best Individual =  protectedDiv(psin(ARG0), add(0.8888939152470683, ARG0))\n",
            "-- length=6, height=2\n",
            "-- Best Fitness =  0.10108948353261077\n",
            "\n",
            "\n",
            "Currently on run 7 of 30\n",
            "-- Best Individual =  mul(0.2236020288374091, psin(psin(psin(psin(ARG0)))))\n",
            "-- length=7, height=5\n",
            "-- Best Fitness =  0.08829011416905151\n",
            "\n",
            "\n",
            "Currently on run 8 of 30\n",
            "-- Best Individual =  mul(mul(psin(sub(ARG0, psin(ARG0))), 0.05957031990054684), sub(pcos(psin(sub(add(ARG0, 0.1486663295623053), psin(ARG0)))), mul(psin(sub(sub(ARG0, 0.9199557609029416), sub(0.7312651033216397, 0.3073441539311107))), sub(sub(pow2(0.2883651264362923), add(protectedDiv(pcos(mul(sub(0.7312651033216397, 0.3073441539311107), protectedDiv(0.8210780269046691, ARG0))), mul(add(psin(ARG0), mul(ARG0, mul(0.13054259534306745, ARG0))), add(protectedDiv(0.028983243166885386, 0.33816790865169377), sub(0.824849365547377, 0.8596250891618794)))), 0.11096066175165353)), psin(sub(ARG0, sub(0.08334488149311492, mul(psin(sub(add(add(add(psin(sub(add(ARG0, mul(0.10575838276593519, 0.9697651426383778)), 0.1925123986443641)), 0.0632217031832536), ARG0), 0.9697651426383778), psin(ARG0))), 0.30986109855952526))))))))\n",
            "-- length=82, height=17\n",
            "-- Best Fitness =  0.016776888616896687\n",
            "\n",
            "\n",
            "Currently on run 9 of 30\n",
            "-- Best Individual =  mul(psin(psin(psin(psin(psin(ARG0))))), sub(add(0.6939739706104835, 0.5653451377697858), add(0.9524459011197963, 0.06920784721361661)))\n",
            "-- length=14, height=6\n",
            "-- Best Fitness =  0.08807825362332417\n",
            "\n",
            "\n",
            "Currently on run 10 of 30\n",
            "-- Best Individual =  mul(psin(psin(neg(add(neg(pow2(0.4710603087537367)), pcos(neg(ARG0)))))), psin(ARG0))\n",
            "-- length=13, height=7\n",
            "-- Best Fitness =  0.0454334183286016\n",
            "\n",
            "\n",
            "Currently on run 11 of 30\n",
            "-- Best Individual =  mul(mul(psin(ARG0), pcos(add(mul(pcos(ARG0), 0.8798031183780318), add(mul(pow2(psin(ARG0)), psin(pcos(add(0.1301120348814313, sub(pcos(sub(sub(0.14356477951802504, 0.14356477951802504), pcos(ARG0))), 0.14356477951802504))))), 0.7666585352114967)))), add(mul(pcos(ARG0), psin(pcos(add(0.1301120348814313, mul(mul(ARG0, pcos(mul(0.14356477951802504, sub(0.14356477951802504, psin(add(ARG0, 0.8519470185042535)))))), pcos(pcos(add(0.1301120348814313, mul(pow2(psin(ARG0)), pcos(mul(0.14356477951802504, 0.14356477951802504))))))))))), 0.7666585352114967))\n",
            "-- length=62, height=13\n",
            "-- Best Fitness =  0.017512589601456897\n",
            "\n",
            "\n",
            "Currently on run 12 of 30\n",
            "-- Best Individual =  mul(add(psin(add(psin(psin(ARG0)), add(psin(ARG0), add(psin(add(psin(psin(psin(add(psin(ARG0), add(psin(ARG0), psin(pow2(0.35541571568925046))))))), psin(add(ARG0, ARG0)))), psin(psin(add(ARG0, psin(ARG0)))))))), psin(add(psin(ARG0), psin(psin(ARG0))))), psin(pow2(0.35541571568925046)))\n",
            "-- length=45, height=15\n",
            "-- Best Fitness =  0.07187088770010171\n",
            "\n",
            "\n",
            "Currently on run 13 of 30\n",
            "-- Best Individual =  mul(psin(protectedDiv(psin(ARG0), pow2(0.6820100330544564))), 0.11305384274969632)\n",
            "-- length=8, height=4\n",
            "-- Best Fitness =  0.08709322626301046\n",
            "\n",
            "\n",
            "Currently on run 14 of 30\n",
            "-- Best Individual =  mul(psin(psin(psin(ARG0))), 0.17087279842926772)\n",
            "-- length=6, height=4\n",
            "-- Best Fitness =  0.08891531108416736\n",
            "\n",
            "\n",
            "Currently on run 15 of 30\n",
            "-- Best Individual =  mul(0.12051561476215711, psin(add(psin(psin(psin(psin(ARG0)))), add(add(psin(psin(psin(add(psin(ARG0), ARG0)))), psin(ARG0)), psin(ARG0)))))\n",
            "-- length=22, height=10\n",
            "-- Best Fitness =  0.08327946656612821\n",
            "\n",
            "\n",
            "Currently on run 16 of 30\n"
          ]
        },
        {
          "output_type": "stream",
          "name": "stderr",
          "text": [
            "<ipython-input-99-a1ac6c54e9bb>:4: RuntimeWarning: invalid value encountered in scalar divide\n",
            "  return left / right\n"
          ]
        },
        {
          "output_type": "stream",
          "name": "stdout",
          "text": [
            "-- Best Individual =  mul(psin(psin(psin(psin(psin(psin(psin(ARG0))))))), psin(neg(pcos(ARG0))))\n",
            "-- length=13, height=8\n",
            "-- Best Fitness =  0.04929456628629199\n",
            "\n",
            "\n",
            "Currently on run 17 of 30\n",
            "-- Best Individual =  mul(psin(neg(ARG0)), pcos(neg(ARG0)))\n",
            "-- length=7, height=3\n",
            "-- Best Fitness =  0.06210142711427541\n",
            "\n",
            "\n",
            "Currently on run 18 of 30\n",
            "-- Best Individual =  mul(0.08461477960284536, 0.14757290050449423)\n",
            "-- length=3, height=1\n",
            "-- Best Fitness =  0.10126220377439718\n",
            "\n",
            "\n",
            "Currently on run 19 of 30\n",
            "-- Best Individual =  mul(psin(mul(ARG0, psin(psin(psin(psin(psin(psin(psin(psin(psin(mul(ARG0, psin(psin(psin(psin(ARG0)))))))))))))))), 0.15057232691504474)\n",
            "-- length=21, height=17\n",
            "-- Best Fitness =  0.07071389456057998\n",
            "\n",
            "\n",
            "Currently on run 20 of 30\n",
            "-- Best Individual =  psin(mul(0.07985190754572857, pcos(mul(psin(ARG0), protectedDiv(ARG0, 0.9292859737655021)))))\n",
            "-- length=10, height=5\n",
            "-- Best Fitness =  0.10047752396811678\n",
            "\n",
            "\n",
            "Currently on run 21 of 30\n",
            "-- Best Individual =  mul(pcos(sub(add(pcos(mul(ARG0, ARG0)), pow2(add(0.8889115457277451, 0.08015727128983896))), mul(neg(add(0.28031563022077555, 0.8427662320602052)), mul(sub(0.6809113123189581, 0.8564783176228062), pow2(ARG0))))), 0.14090608020933593)\n",
            "-- length=24, height=6\n",
            "-- Best Fitness =  0.08549921937212594\n",
            "\n",
            "\n",
            "Currently on run 22 of 30\n",
            "-- Best Individual =  mul(psin(psin(protectedDiv(protectedDiv(psin(ARG0), add(ARG0, psin(psin(psin(protectedDiv(protectedDiv(psin(0.11393421729708253), add(ARG0, 0.8853116149766445)), add(psin(0.11393421729708253), ARG0))))))), add(0.11393421729708253, 0.10991997746054971)))), psin(psin(psin(protectedDiv(psin(protectedDiv(0.21238527149890707, psin(ARG0))), psin(ARG0))))))\n",
            "-- length=37, height=12\n",
            "-- Best Fitness =  0.06592966402317195\n",
            "\n",
            "\n",
            "Currently on run 23 of 30\n",
            "-- Best Individual =  neg(mul(psin(psin(ARG0)), pcos(ARG0)))\n",
            "-- length=7, height=4\n",
            "-- Best Fitness =  0.0568909309251441\n",
            "\n",
            "\n",
            "Currently on run 24 of 30\n",
            "-- Best Individual =  mul(psin(mul(psin(psin(psin(psin(mul(ARG0, psin(psin(psin(psin(mul(ARG0, psin(psin(psin(psin(ARG0)))))))))))))), psin(psin(psin(psin(mul(ARG0, psin(psin(psin(psin(psin(psin(ARG0))))))))))))), psin(psin(mul(ARG0, psin(psin(psin(psin(psin(psin(psin(psin(psin(psin(ARG0))))))))))))))\n",
            "-- length=48, height=17\n",
            "-- Best Fitness =  0.05130464132397741\n",
            "\n",
            "\n",
            "Currently on run 25 of 30\n",
            "-- Best Individual =  mul(0.11455058540813445, psin(ARG0))\n",
            "-- length=4, height=2\n",
            "-- Best Fitness =  0.09057645466541366\n",
            "\n",
            "\n",
            "Currently on run 26 of 30\n",
            "-- Best Individual =  pow2(mul(0.2721574886326166, 0.4088812742677874))\n",
            "-- length=4, height=2\n",
            "-- Best Fitness =  0.10126221048763462\n",
            "\n",
            "\n",
            "Currently on run 27 of 30\n",
            "-- Best Individual =  mul(psin(psin(psin(psin(psin(psin(psin(psin(psin(ARG0))))))))), 0.2703594069542966)\n",
            "-- length=12, height=10\n",
            "-- Best Fitness =  0.08767386712836019\n",
            "\n",
            "\n",
            "Currently on run 28 of 30\n",
            "-- Best Individual =  mul(0.274633425909965, psin(psin(psin(psin(psin(psin(psin(psin(psin(add(psin(ARG0), psin(ARG0))))))))))))\n",
            "-- length=16, height=12\n",
            "-- Best Fitness =  0.08693182412150435\n",
            "\n",
            "\n",
            "Currently on run 29 of 30\n",
            "-- Best Individual =  mul(0.24566518290024109, psin(ARG0))\n",
            "-- length=4, height=2\n",
            "-- Best Fitness =  0.09353639640537077\n"
          ]
        }
      ],
      "source": [
        "for r in range(0, N_RUNS):\n",
        "    population = toolbox.population(n=POPULATION_SIZE)\n",
        "    # define the hall-of-fame object:\n",
        "    hof = tools.HallOfFame(HALL_OF_FAME_SIZE)\n",
        "\n",
        "\n",
        "    # Create our statistics\n",
        "    stats_fit = tools.Statistics(lambda ind: ind.fitness.values)\n",
        "    stats_size = tools.Statistics(len)\n",
        "    mstats = tools.MultiStatistics(fitness=stats_fit, size=stats_size)\n",
        "    mstats.register(\"avg\", numpy.mean)\n",
        "    mstats.register(\"std\", numpy.std)\n",
        "    mstats.register(\"min\", numpy.min)\n",
        "    mstats.register(\"max\", numpy.max)\n",
        "\n",
        "\n",
        "    # Which run are we on?\n",
        "    print(\"\\n\\nCurrently on run\", r, \"of\",N_RUNS)\n",
        "\n",
        "\n",
        "    # It's usually a good idea to turn off verbose when conducting multiple runs\n",
        "    population, logbook = algorithms.eaSimple(population,\n",
        "                                                  toolbox,\n",
        "                                                  cxpb=P_CROSSOVER,\n",
        "                                                  mutpb=P_MUTATION,\n",
        "                                                  ngen=MAX_GENERATIONS,\n",
        "                                                  stats=mstats,\n",
        "                                                  halloffame=hof,\n",
        "                                                  verbose=False)\n",
        "\n",
        "    #maxFitnessValues, meanFitnessValues = logbook.chapters['fitness'].select(\"min\", \"avg\")\n",
        "    meanFitnessValues, stdFitnessValues, minFitnessValues, maxFitnessValues  = logbook.chapters['fitness'].select(\"avg\", \"std\", \"min\", \"max\")\n",
        "    meanSizeValues, stdSizeValues, minSizeValues, maxSizeValues  = logbook.chapters['size'].select(\"avg\", \"std\", \"min\", \"max\")\n",
        "\n",
        "\n",
        "    # Save statistics for this run:\n",
        "    avgListFitness.append(meanFitnessValues)\n",
        "    stdListFitness.append(stdFitnessValues)\n",
        "    minListFitness.append(minFitnessValues)\n",
        "    maxListFitness.append(maxFitnessValues)\n",
        "\n",
        "    avgListSize.append(meanSizeValues)\n",
        "    stdListSize.append(stdSizeValues)\n",
        "    minListSize.append(minSizeValues)\n",
        "    maxListSize.append(maxSizeValues)\n",
        "\n",
        "    # print info for best solution found:\n",
        "    best = hof.items[0]\n",
        "    print(\"-- Best Individual = \", best)\n",
        "    print(\"-- length={}, height={}\".format(len(best), best.height))\n",
        "    print(\"-- Best Fitness = \", best.fitness.values[0])\n",
        "\n"
      ]
    },
    {
      "cell_type": "code",
      "execution_count": null,
      "metadata": {
        "colab": {
          "base_uri": "https://localhost:8080/"
        },
        "id": "Hcl8dxVLUasE",
        "outputId": "bad52605-b30f-4807-b6d0-d62bb9e18391"
      },
      "outputs": [
        {
          "output_type": "stream",
          "name": "stdout",
          "text": [
            "Drive already mounted at /content/drive; to attempt to forcibly remount, call drive.mount(\"/content/drive\", force_remount=True).\n"
          ]
        }
      ],
      "source": [
        "from google.colab import drive\n",
        "drive.mount('/content/drive')"
      ]
    },
    {
      "cell_type": "markdown",
      "metadata": {
        "id": "1iNO1aSl-vsz"
      },
      "source": [
        "Create our graphs using the averages across all the runs. Notice how we use standard deviation to show how much variation there is in the runs.\n",
        "\n",
        "Notice that if there's a big discrepancy between best and average the graphs can look like there's virtually no variation in the best score. If this happens, the first thing to do is verify if that is actually happening; you can do that by commenting out this line:\n",
        "\n",
        "**plt.errorbar(x, avgArray.mean(0), yerr=stdArray.mean(0),label=\"Average\",color=\"Red\")**"
      ]
    },
    {
      "cell_type": "code",
      "execution_count": null,
      "metadata": {
        "colab": {
          "base_uri": "https://localhost:8080/",
          "height": 472
        },
        "id": "I9pkkX0y-vsz",
        "scrolled": true,
        "outputId": "3f84b5ad-0e4d-4784-9557-95749709da58"
      },
      "outputs": [
        {
          "output_type": "display_data",
          "data": {
            "text/plain": [
              "<Figure size 640x480 with 1 Axes>"
            ],
            "image/png": "[encoded data removed]"
          },
          "metadata": {}
        }
      ],
      "source": [
        "# Genetic Programming is done (all runs) - plot statistics:\n",
        "x = numpy.arange(0, MAX_GENERATIONS+1)\n",
        "avgArray = numpy.array(avgListFitness)\n",
        "stdArray = numpy.array(stdListFitness)\n",
        "minArray = numpy.array(minListFitness)\n",
        "maxArray = numpy.array(maxListFitness)\n",
        "plt.xlabel('Generation')\n",
        "plt.ylabel('Fitness')\n",
        "plt.title('Best and Average Fitness for Symbolic Regression')\n",
        "#plt.errorbar(x, avgArray.mean(0), yerr=stdArray.mean(0),label=\"Average\",color=\"Red\")\n",
        "plt.errorbar(x, minArray.mean(0), yerr=minArray.std(0),label=\"Best\", color=\"Green\")\n",
        "plt.show()"
      ]
    },
    {
      "cell_type": "markdown",
      "metadata": {
        "id": "exs0WZOL-vs0"
      },
      "source": [
        "Show the graph for size."
      ]
    },
    {
      "cell_type": "code",
      "execution_count": null,
      "metadata": {
        "colab": {
          "base_uri": "https://localhost:8080/",
          "height": 472
        },
        "id": "FPyIX7JT-vs0",
        "outputId": "9117c0b8-3fc8-44d8-9101-c4de50a5ef80"
      },
      "outputs": [
        {
          "output_type": "display_data",
          "data": {
            "text/plain": [
              "<Figure size 640x480 with 1 Axes>"
            ],
            "image/png": "[encoded data removed]"
          },
          "metadata": {}
        }
      ],
      "source": [
        "# Genetic Programming is done (all runs) - plot statistics:\n",
        "x = numpy.arange(0, MAX_GENERATIONS+1)\n",
        "avgArray = numpy.array(avgListSize)\n",
        "stdArray = numpy.array(stdListSize)\n",
        "minArray = numpy.array(minListSize)\n",
        "maxArray = numpy.array(maxListSize)\n",
        "plt.xlabel('Generation')\n",
        "plt.ylabel('Size')\n",
        "plt.title('Best and Average Size for Symbolic Regression')\n",
        "plt.errorbar(x, avgArray.mean(0), yerr=stdArray.mean(0),label=\"Average\",color=\"Red\")\n",
        "plt.errorbar(x, minArray.mean(0), yerr=minArray.std(0),label=\"Best\", color=\"Blue\")\n",
        "plt.show()"
      ]
    },
    {
      "cell_type": "code",
      "source": [
        "y_actual = pd.read_csv(\"/content/salustowicz_test_dataset.csv\")\n",
        "y_actual.head()"
      ],
      "metadata": {
        "colab": {
          "base_uri": "https://localhost:8080/",
          "height": 206
        },
        "id": "-es0_6YvNopC",
        "outputId": "cae709a4-ce21-47e0-cc55-4c8c70efea63"
      },
      "execution_count": null,
      "outputs": [
        {
          "output_type": "execute_result",
          "data": {
            "text/plain": [
              "     Z1    TARGET\n",
              "0 -0.50 -0.069219\n",
              "1 -0.45 -0.046438\n",
              "2 -0.40 -0.029462\n",
              "3 -0.35 -0.017433\n",
              "4 -0.30 -0.009431"
            ],
            "text/html": [
              "\n",
              "  <div id=\"df-258a3f91-60b9-4832-9e2e-f659e5b616c8\" class=\"colab-df-container\">\n",
              "    <div>\n",
              "<style scoped>\n",
              "    .dataframe tbody tr th:only-of-type {\n",
              "        vertical-align: middle;\n",
              "    }\n",
              "\n",
              "    .dataframe tbody tr th {\n",
              "        vertical-align: top;\n",
              "    }\n",
              "\n",
              "    .dataframe thead th {\n",
              "        text-align: right;\n",
              "    }\n",
              "</style>\n",
              "<table border=\"1\" class=\"dataframe\">\n",
              "  <thead>\n",
              "    <tr style=\"text-align: right;\">\n",
              "      <th></th>\n",
              "      <th>Z1</th>\n",
              "      <th>TARGET</th>\n",
              "    </tr>\n",
              "  </thead>\n",
              "  <tbody>\n",
              "    <tr>\n",
              "      <th>0</th>\n",
              "      <td>-0.50</td>\n",
              "      <td>-0.069219</td>\n",
              "    </tr>\n",
              "    <tr>\n",
              "      <th>1</th>\n",
              "      <td>-0.45</td>\n",
              "      <td>-0.046438</td>\n",
              "    </tr>\n",
              "    <tr>\n",
              "      <th>2</th>\n",
              "      <td>-0.40</td>\n",
              "      <td>-0.029462</td>\n",
              "    </tr>\n",
              "    <tr>\n",
              "      <th>3</th>\n",
              "      <td>-0.35</td>\n",
              "      <td>-0.017433</td>\n",
              "    </tr>\n",
              "    <tr>\n",
              "      <th>4</th>\n",
              "      <td>-0.30</td>\n",
              "      <td>-0.009431</td>\n",
              "    </tr>\n",
              "  </tbody>\n",
              "</table>\n",
              "</div>\n",
              "    <div class=\"colab-df-buttons\">\n",
              "\n",
              "  <div class=\"colab-df-container\">\n",
              "    <button class=\"colab-df-convert\" onclick=\"convertToInteractive('df-258a3f91-60b9-4832-9e2e-f659e5b616c8')\"\n",
              "            title=\"Convert this dataframe to an interactive table.\"\n",
              "            style=\"display:none;\">\n",
              "\n",
              "  <svg xmlns=\"http://www.w3.org/2000/svg\" height=\"24px\" viewBox=\"0 -960 960 960\">\n",
              "    <path d=\"M120-120v-720h720v720H120Zm60-500h600v-160H180v160Zm220 220h160v-160H400v160Zm0 220h160v-160H400v160ZM180-400h160v-160H180v160Zm440 0h160v-160H620v160ZM180-180h160v-160H180v160Zm440 0h160v-160H620v160Z\"/>\n",
              "  </svg>\n",
              "    </button>\n",
              "\n",
              "  <style>\n",
              "    .colab-df-container {\n",
              "      display:flex;\n",
              "      gap: 12px;\n",
              "    }\n",
              "\n",
              "    .colab-df-convert {\n",
              "      background-color: #E8F0FE;\n",
              "      border: none;\n",
              "      border-radius: 50%;\n",
              "      cursor: pointer;\n",
              "      display: none;\n",
              "      fill: #1967D2;\n",
              "      height: 32px;\n",
              "      padding: 0 0 0 0;\n",
              "      width: 32px;\n",
              "    }\n",
              "\n",
              "    .colab-df-convert:hover {\n",
              "      background-color: #E2EBFA;\n",
              "      box-shadow: 0px 1px 2px rgba(60, 64, 67, 0.3), 0px 1px 3px 1px rgba(60, 64, 67, 0.15);\n",
              "      fill: #174EA6;\n",
              "    }\n",
              "\n",
              "    .colab-df-buttons div {\n",
              "      margin-bottom: 4px;\n",
              "    }\n",
              "\n",
              "    [theme=dark] .colab-df-convert {\n",
              "      background-color: #3B4455;\n",
              "      fill: #D2E3FC;\n",
              "    }\n",
              "\n",
              "    [theme=dark] .colab-df-convert:hover {\n",
              "      background-color: #434B5C;\n",
              "      box-shadow: 0px 1px 3px 1px rgba(0, 0, 0, 0.15);\n",
              "      filter: drop-shadow(0px 1px 2px rgba(0, 0, 0, 0.3));\n",
              "      fill: #FFFFFF;\n",
              "    }\n",
              "  </style>\n",
              "\n",
              "    <script>\n",
              "      const buttonEl =\n",
              "        document.querySelector('#df-258a3f91-60b9-4832-9e2e-f659e5b616c8 button.colab-df-convert');\n",
              "      buttonEl.style.display =\n",
              "        google.colab.kernel.accessAllowed ? 'block' : 'none';\n",
              "\n",
              "      async function convertToInteractive(key) {\n",
              "        const element = document.querySelector('#df-258a3f91-60b9-4832-9e2e-f659e5b616c8');\n",
              "        const dataTable =\n",
              "          await google.colab.kernel.invokeFunction('convertToInteractive',\n",
              "                                                    [key], {});\n",
              "        if (!dataTable) return;\n",
              "\n",
              "        const docLinkHtml = 'Like what you see? Visit the ' +\n",
              "          '<a target=\"_blank\" href=https://colab.research.google.com/notebooks/data_table.ipynb>data table notebook</a>'\n",
              "          + ' to learn more about interactive tables.';\n",
              "        element.innerHTML = '';\n",
              "        dataTable['output_type'] = 'display_data';\n",
              "        await google.colab.output.renderOutput(dataTable, element);\n",
              "        const docLink = document.createElement('div');\n",
              "        docLink.innerHTML = docLinkHtml;\n",
              "        element.appendChild(docLink);\n",
              "      }\n",
              "    </script>\n",
              "  </div>\n",
              "\n",
              "\n",
              "<div id=\"df-bd4c0888-cd59-40d8-b6af-9c1084f89973\">\n",
              "  <button class=\"colab-df-quickchart\" onclick=\"quickchart('df-bd4c0888-cd59-40d8-b6af-9c1084f89973')\"\n",
              "            title=\"Suggest charts\"\n",
              "            style=\"display:none;\">\n",
              "\n",
              "<svg xmlns=\"http://www.w3.org/2000/svg\" height=\"24px\"viewBox=\"0 0 24 24\"\n",
              "     width=\"24px\">\n",
              "    <g>\n",
              "        <path d=\"M19 3H5c-1.1 0-2 .9-2 2v14c0 1.1.9 2 2 2h14c1.1 0 2-.9 2-2V5c0-1.1-.9-2-2-2zM9 17H7v-7h2v7zm4 0h-2V7h2v10zm4 0h-2v-4h2v4z\"/>\n",
              "    </g>\n",
              "</svg>\n",
              "  </button>\n",
              "\n",
              "<style>\n",
              "  .colab-df-quickchart {\n",
              "      --bg-color: #E8F0FE;\n",
              "      --fill-color: #1967D2;\n",
              "      --hover-bg-color: #E2EBFA;\n",
              "      --hover-fill-color: #174EA6;\n",
              "      --disabled-fill-color: #AAA;\n",
              "      --disabled-bg-color: #DDD;\n",
              "  }\n",
              "\n",
              "  [theme=dark] .colab-df-quickchart {\n",
              "      --bg-color: #3B4455;\n",
              "      --fill-color: #D2E3FC;\n",
              "      --hover-bg-color: #434B5C;\n",
              "      --hover-fill-color: #FFFFFF;\n",
              "      --disabled-bg-color: #3B4455;\n",
              "      --disabled-fill-color: #666;\n",
              "  }\n",
              "\n",
              "  .colab-df-quickchart {\n",
              "    background-color: var(--bg-color);\n",
              "    border: none;\n",
              "    border-radius: 50%;\n",
              "    cursor: pointer;\n",
              "    display: none;\n",
              "    fill: var(--fill-color);\n",
              "    height: 32px;\n",
              "    padding: 0;\n",
              "    width: 32px;\n",
              "  }\n",
              "\n",
              "  .colab-df-quickchart:hover {\n",
              "    background-color: var(--hover-bg-color);\n",
              "    box-shadow: 0 1px 2px rgba(60, 64, 67, 0.3), 0 1px 3px 1px rgba(60, 64, 67, 0.15);\n",
              "    fill: var(--button-hover-fill-color);\n",
              "  }\n",
              "\n",
              "  .colab-df-quickchart-complete:disabled,\n",
              "  .colab-df-quickchart-complete:disabled:hover {\n",
              "    background-color: var(--disabled-bg-color);\n",
              "    fill: var(--disabled-fill-color);\n",
              "    box-shadow: none;\n",
              "  }\n",
              "\n",
              "  .colab-df-spinner {\n",
              "    border: 2px solid var(--fill-color);\n",
              "    border-color: transparent;\n",
              "    border-bottom-color: var(--fill-color);\n",
              "    animation:\n",
              "      spin 1s steps(1) infinite;\n",
              "  }\n",
              "\n",
              "  @keyframes spin {\n",
              "    0% {\n",
              "      border-color: transparent;\n",
              "      border-bottom-color: var(--fill-color);\n",
              "      border-left-color: var(--fill-color);\n",
              "    }\n",
              "    20% {\n",
              "      border-color: transparent;\n",
              "      border-left-color: var(--fill-color);\n",
              "      border-top-color: var(--fill-color);\n",
              "    }\n",
              "    30% {\n",
              "      border-color: transparent;\n",
              "      border-left-color: var(--fill-color);\n",
              "      border-top-color: var(--fill-color);\n",
              "      border-right-color: var(--fill-color);\n",
              "    }\n",
              "    40% {\n",
              "      border-color: transparent;\n",
              "      border-right-color: var(--fill-color);\n",
              "      border-top-color: var(--fill-color);\n",
              "    }\n",
              "    60% {\n",
              "      border-color: transparent;\n",
              "      border-right-color: var(--fill-color);\n",
              "    }\n",
              "    80% {\n",
              "      border-color: transparent;\n",
              "      border-right-color: var(--fill-color);\n",
              "      border-bottom-color: var(--fill-color);\n",
              "    }\n",
              "    90% {\n",
              "      border-color: transparent;\n",
              "      border-bottom-color: var(--fill-color);\n",
              "    }\n",
              "  }\n",
              "</style>\n",
              "\n",
              "  <script>\n",
              "    async function quickchart(key) {\n",
              "      const quickchartButtonEl =\n",
              "        document.querySelector('#' + key + ' button');\n",
              "      quickchartButtonEl.disabled = true;  // To prevent multiple clicks.\n",
              "      quickchartButtonEl.classList.add('colab-df-spinner');\n",
              "      try {\n",
              "        const charts = await google.colab.kernel.invokeFunction(\n",
              "            'suggestCharts', [key], {});\n",
              "      } catch (error) {\n",
              "        console.error('Error during call to suggestCharts:', error);\n",
              "      }\n",
              "      quickchartButtonEl.classList.remove('colab-df-spinner');\n",
              "      quickchartButtonEl.classList.add('colab-df-quickchart-complete');\n",
              "    }\n",
              "    (() => {\n",
              "      let quickchartButtonEl =\n",
              "        document.querySelector('#df-bd4c0888-cd59-40d8-b6af-9c1084f89973 button');\n",
              "      quickchartButtonEl.style.display =\n",
              "        google.colab.kernel.accessAllowed ? 'block' : 'none';\n",
              "    })();\n",
              "  </script>\n",
              "</div>\n",
              "\n",
              "    </div>\n",
              "  </div>\n"
            ],
            "application/vnd.google.colaboratory.intrinsic+json": {
              "type": "dataframe",
              "variable_name": "y_actual",
              "summary": "{\n  \"name\": \"y_actual\",\n  \"rows\": 221,\n  \"fields\": [\n    {\n      \"column\": \"Z1\",\n      \"properties\": {\n        \"dtype\": \"number\",\n        \"std\": 3.197068970166268,\n        \"min\": -0.5,\n        \"max\": 10.5,\n        \"num_unique_values\": 221,\n        \"samples\": [\n          6.1,\n          6.9,\n          4.15\n        ],\n        \"semantic_type\": \"\",\n        \"description\": \"\"\n      }\n    },\n    {\n      \"column\": \"TARGET\",\n      \"properties\": {\n        \"dtype\": \"number\",\n        \"std\": 0.3036060593407361,\n        \"min\": -0.8067958,\n        \"max\": 0.838909,\n        \"num_unique_values\": 221,\n        \"samples\": [\n          0.08820999,\n          -0.113577,\n          -0.7022105\n        ],\n        \"semantic_type\": \"\",\n        \"description\": \"\"\n      }\n    }\n  ]\n}"
            }
          },
          "metadata": {},
          "execution_count": 107
        }
      ]
    },
    {
      "cell_type": "code",
      "execution_count": null,
      "metadata": {
        "colab": {
          "base_uri": "https://localhost:8080/",
          "height": 493
        },
        "id": "9v_XF-Sa0ovK",
        "outputId": "c8249bea-639d-4d8e-daf6-68ad4f2022e9"
      },
      "outputs": [
        {
          "output_type": "display_data",
          "data": {
            "text/plain": [
              "<Figure size 1000x600 with 1 Axes>"
            ],
            "image/png": "[encoded data removed]"
          },
          "metadata": {}
        }
      ],
      "source": [
        "# use your best individual so far to plot a graph with its outputs, and plot the expected curve (from the dataset) in the same graph.\n",
        "\n",
        "func = toolbox.compile(expr=best)\n",
        "\n",
        "z1Values = y_actual[\"Z1\"].values\n",
        "targetValues = y_actual[\"TARGET\"].values\n",
        "\n",
        "plt.figure(figsize=(10, 6))\n",
        "plt.plot(z1Values, targetValues, label=\"Expected\", color=\"blue\")\n",
        "\n",
        "predictedValues = [func(z) for z in z1Values]\n",
        "plt.plot(z1Values, predictedValues, label=\"Predicted\", color=\"red\")\n",
        "\n",
        "plt.legend()\n",
        "plt.grid(True)"
      ]
    }
  ],
  "metadata": {
    "colab": {
      "provenance": [],
      "include_colab_link": true
    },
    "kernelspec": {
      "display_name": "Python 3",
      "language": "python",
      "name": "python3"
    },
    "language_info": {
      "codemirror_mode": {
        "name": "ipython",
        "version": 3
      },
      "file_extension": ".py",
      "mimetype": "text/x-python",
      "name": "python",
      "nbconvert_exporter": "python",
      "pygments_lexer": "ipython3",
      "version": "3.8.3"
    }
  },
  "nbformat": 4,
  "nbformat_minor": 0
}